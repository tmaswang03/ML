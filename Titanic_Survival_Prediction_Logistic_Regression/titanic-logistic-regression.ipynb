{
 "cells": [
  {
   "cell_type": "code",
   "execution_count": 1,
   "id": "abc0fc64",
   "metadata": {
    "_cell_guid": "b1076dfc-b9ad-4769-8c92-a6c4dae69d19",
    "_uuid": "8f2839f25d086af736a60e9eeb907d3b93b6e0e5",
    "execution": {
     "iopub.execute_input": "2023-03-27T02:27:23.573393Z",
     "iopub.status.busy": "2023-03-27T02:27:23.572626Z",
     "iopub.status.idle": "2023-03-27T02:27:24.602082Z",
     "shell.execute_reply": "2023-03-27T02:27:24.601156Z"
    },
    "papermill": {
     "duration": 1.036259,
     "end_time": "2023-03-27T02:27:24.604653",
     "exception": false,
     "start_time": "2023-03-27T02:27:23.568394",
     "status": "completed"
    },
    "tags": []
   },
   "outputs": [
    {
     "name": "stdout",
     "output_type": "stream",
     "text": [
      "/kaggle/input/titanic/train.csv\n",
      "/kaggle/input/titanic/test.csv\n",
      "/kaggle/input/titanic/gender_submission.csv\n"
     ]
    }
   ],
   "source": [
    "# This Python 3 environment comes with many helpful analytics libraries installed\n",
    "# It is defined by the kaggle/python Docker image: https://github.com/kaggle/docker-python\n",
    "# For example, here's several helpful packages to load\n",
    "\n",
    "import numpy as np # linear algebra\n",
    "import pandas as pd # data processing, CSV file I/O (e.g. pd.read_csv)\n",
    "\n",
    "from sklearn.linear_model import LogisticRegression\n",
    "from sklearn.model_selection import train_test_split\n",
    "from sklearn.impute import SimpleImputer\n",
    "\n",
    "from sklearn.preprocessing import OneHotEncoder \n",
    "\n",
    "\n",
    "# Input data files are available in the read-only \"../input/\" directory\n",
    "# For example, running this (by clicking run or pressing Shift+Enter) will list all files under the input directory\n",
    "\n",
    "import os\n",
    "for dirname, _, filenames in os.walk('/kaggle/input'):\n",
    "    for filename in filenames:\n",
    "        print(os.path.join(dirname, filename))\n",
    "\n",
    "# You can write up to 20GB to the current directory (/kaggle/working/) that gets preserved as output when you create a version using \"Save & Run All\" \n",
    "# You can also write temporary files to /kaggle/temp/, but they won't be saved outside of the current session"
   ]
  },
  {
   "cell_type": "code",
   "execution_count": 2,
   "id": "12cef822",
   "metadata": {
    "execution": {
     "iopub.execute_input": "2023-03-27T02:27:24.610994Z",
     "iopub.status.busy": "2023-03-27T02:27:24.610706Z",
     "iopub.status.idle": "2023-03-27T02:27:24.651921Z",
     "shell.execute_reply": "2023-03-27T02:27:24.650966Z"
    },
    "papermill": {
     "duration": 0.046378,
     "end_time": "2023-03-27T02:27:24.654005",
     "exception": false,
     "start_time": "2023-03-27T02:27:24.607627",
     "status": "completed"
    },
    "tags": []
   },
   "outputs": [
    {
     "data": {
      "text/html": [
       "<div>\n",
       "<style scoped>\n",
       "    .dataframe tbody tr th:only-of-type {\n",
       "        vertical-align: middle;\n",
       "    }\n",
       "\n",
       "    .dataframe tbody tr th {\n",
       "        vertical-align: top;\n",
       "    }\n",
       "\n",
       "    .dataframe thead th {\n",
       "        text-align: right;\n",
       "    }\n",
       "</style>\n",
       "<table border=\"1\" class=\"dataframe\">\n",
       "  <thead>\n",
       "    <tr style=\"text-align: right;\">\n",
       "      <th></th>\n",
       "      <th>PassengerId</th>\n",
       "      <th>Pclass</th>\n",
       "      <th>Sex</th>\n",
       "      <th>Age</th>\n",
       "      <th>SibSp</th>\n",
       "      <th>Parch</th>\n",
       "      <th>Fare</th>\n",
       "      <th>Embarked</th>\n",
       "    </tr>\n",
       "  </thead>\n",
       "  <tbody>\n",
       "    <tr>\n",
       "      <th>0</th>\n",
       "      <td>1</td>\n",
       "      <td>3</td>\n",
       "      <td>male</td>\n",
       "      <td>22.0</td>\n",
       "      <td>1</td>\n",
       "      <td>0</td>\n",
       "      <td>7.2500</td>\n",
       "      <td>S</td>\n",
       "    </tr>\n",
       "    <tr>\n",
       "      <th>1</th>\n",
       "      <td>2</td>\n",
       "      <td>1</td>\n",
       "      <td>female</td>\n",
       "      <td>38.0</td>\n",
       "      <td>1</td>\n",
       "      <td>0</td>\n",
       "      <td>71.2833</td>\n",
       "      <td>C</td>\n",
       "    </tr>\n",
       "    <tr>\n",
       "      <th>2</th>\n",
       "      <td>3</td>\n",
       "      <td>3</td>\n",
       "      <td>female</td>\n",
       "      <td>26.0</td>\n",
       "      <td>0</td>\n",
       "      <td>0</td>\n",
       "      <td>7.9250</td>\n",
       "      <td>S</td>\n",
       "    </tr>\n",
       "    <tr>\n",
       "      <th>3</th>\n",
       "      <td>4</td>\n",
       "      <td>1</td>\n",
       "      <td>female</td>\n",
       "      <td>35.0</td>\n",
       "      <td>1</td>\n",
       "      <td>0</td>\n",
       "      <td>53.1000</td>\n",
       "      <td>S</td>\n",
       "    </tr>\n",
       "    <tr>\n",
       "      <th>4</th>\n",
       "      <td>5</td>\n",
       "      <td>3</td>\n",
       "      <td>male</td>\n",
       "      <td>35.0</td>\n",
       "      <td>0</td>\n",
       "      <td>0</td>\n",
       "      <td>8.0500</td>\n",
       "      <td>S</td>\n",
       "    </tr>\n",
       "  </tbody>\n",
       "</table>\n",
       "</div>"
      ],
      "text/plain": [
       "   PassengerId  Pclass     Sex   Age  SibSp  Parch     Fare Embarked\n",
       "0            1       3    male  22.0      1      0   7.2500        S\n",
       "1            2       1  female  38.0      1      0  71.2833        C\n",
       "2            3       3  female  26.0      0      0   7.9250        S\n",
       "3            4       1  female  35.0      1      0  53.1000        S\n",
       "4            5       3    male  35.0      0      0   8.0500        S"
      ]
     },
     "execution_count": 2,
     "metadata": {},
     "output_type": "execute_result"
    }
   ],
   "source": [
    "dfTrainX = pd.read_csv('/kaggle/input/titanic/train.csv')\n",
    "dfTrainY = dfTrainX['Survived']\n",
    "dfTrainX = dfTrainX.drop(['Survived', 'Name', 'Cabin', 'Ticket'], axis = 1)\n",
    "dfTrainX.head()"
   ]
  },
  {
   "cell_type": "code",
   "execution_count": 3,
   "id": "4cc192c5",
   "metadata": {
    "execution": {
     "iopub.execute_input": "2023-03-27T02:27:24.660221Z",
     "iopub.status.busy": "2023-03-27T02:27:24.659927Z",
     "iopub.status.idle": "2023-03-27T02:27:24.689121Z",
     "shell.execute_reply": "2023-03-27T02:27:24.688076Z"
    },
    "papermill": {
     "duration": 0.035184,
     "end_time": "2023-03-27T02:27:24.691787",
     "exception": false,
     "start_time": "2023-03-27T02:27:24.656603",
     "status": "completed"
    },
    "tags": []
   },
   "outputs": [
    {
     "name": "stdout",
     "output_type": "stream",
     "text": [
      "<class 'pandas.core.frame.DataFrame'>\n",
      "RangeIndex: 891 entries, 0 to 890\n",
      "Data columns (total 11 columns):\n",
      " #   Column       Non-Null Count  Dtype  \n",
      "---  ------       --------------  -----  \n",
      " 0   PassengerId  891 non-null    int64  \n",
      " 1   Pclass       891 non-null    int64  \n",
      " 2   Age          714 non-null    float64\n",
      " 3   SibSp        891 non-null    int64  \n",
      " 4   Parch        891 non-null    int64  \n",
      " 5   Fare         891 non-null    float64\n",
      " 6   female       891 non-null    uint8  \n",
      " 7   male         891 non-null    uint8  \n",
      " 8   C            891 non-null    uint8  \n",
      " 9   Q            891 non-null    uint8  \n",
      " 10  S            891 non-null    uint8  \n",
      "dtypes: float64(2), int64(4), uint8(5)\n",
      "memory usage: 46.2 KB\n"
     ]
    }
   ],
   "source": [
    "sexEncoder = pd.get_dummies(dfTrainX['Sex'])\n",
    "dfTrainX = dfTrainX.drop('Sex', axis = 1)\n",
    "dfTrainX = dfTrainX.join(sexEncoder)\n",
    "embarkEncoder = pd.get_dummies(dfTrainX['Embarked'])\n",
    "dfTrainX = dfTrainX.drop('Embarked', axis = 1)\n",
    "dfTrainX = dfTrainX.join(embarkEncoder)\n",
    "dfTrainX.info()"
   ]
  },
  {
   "cell_type": "code",
   "execution_count": 4,
   "id": "804d8db3",
   "metadata": {
    "execution": {
     "iopub.execute_input": "2023-03-27T02:27:24.699772Z",
     "iopub.status.busy": "2023-03-27T02:27:24.699405Z",
     "iopub.status.idle": "2023-03-27T02:27:24.711444Z",
     "shell.execute_reply": "2023-03-27T02:27:24.710278Z"
    },
    "papermill": {
     "duration": 0.018509,
     "end_time": "2023-03-27T02:27:24.713874",
     "exception": false,
     "start_time": "2023-03-27T02:27:24.695365",
     "status": "completed"
    },
    "tags": []
   },
   "outputs": [],
   "source": [
    "imp = SimpleImputer(missing_values = np.nan, strategy = 'mean') #could also use mean, median, most freq\n",
    "dfTrainX = pd.DataFrame(imp.fit_transform(dfTrainX), columns = dfTrainX.columns)"
   ]
  },
  {
   "cell_type": "code",
   "execution_count": 5,
   "id": "6f78486a",
   "metadata": {
    "execution": {
     "iopub.execute_input": "2023-03-27T02:27:24.721551Z",
     "iopub.status.busy": "2023-03-27T02:27:24.721227Z",
     "iopub.status.idle": "2023-03-27T02:27:24.739365Z",
     "shell.execute_reply": "2023-03-27T02:27:24.738406Z"
    },
    "papermill": {
     "duration": 0.024611,
     "end_time": "2023-03-27T02:27:24.741833",
     "exception": false,
     "start_time": "2023-03-27T02:27:24.717222",
     "status": "completed"
    },
    "tags": []
   },
   "outputs": [
    {
     "data": {
      "text/plain": [
       "LogisticRegression(max_iter=500, solver='liblinear')"
      ]
     },
     "execution_count": 5,
     "metadata": {},
     "output_type": "execute_result"
    }
   ],
   "source": [
    "logistic_regression = LogisticRegression(solver = 'liblinear', max_iter = 500)\n",
    "logistic_regression.fit(dfTrainX, dfTrainY)\n",
    "# logistic_regression.score(dfTestX, dfTestY)"
   ]
  },
  {
   "cell_type": "code",
   "execution_count": 6,
   "id": "0db33b12",
   "metadata": {
    "execution": {
     "iopub.execute_input": "2023-03-27T02:27:24.749173Z",
     "iopub.status.busy": "2023-03-27T02:27:24.748199Z",
     "iopub.status.idle": "2023-03-27T02:27:24.785978Z",
     "shell.execute_reply": "2023-03-27T02:27:24.784794Z"
    },
    "papermill": {
     "duration": 0.043414,
     "end_time": "2023-03-27T02:27:24.788032",
     "exception": false,
     "start_time": "2023-03-27T02:27:24.744618",
     "status": "completed"
    },
    "tags": []
   },
   "outputs": [
    {
     "data": {
      "text/html": [
       "<div>\n",
       "<style scoped>\n",
       "    .dataframe tbody tr th:only-of-type {\n",
       "        vertical-align: middle;\n",
       "    }\n",
       "\n",
       "    .dataframe tbody tr th {\n",
       "        vertical-align: top;\n",
       "    }\n",
       "\n",
       "    .dataframe thead th {\n",
       "        text-align: right;\n",
       "    }\n",
       "</style>\n",
       "<table border=\"1\" class=\"dataframe\">\n",
       "  <thead>\n",
       "    <tr style=\"text-align: right;\">\n",
       "      <th></th>\n",
       "      <th>PassengerId</th>\n",
       "      <th>Survived</th>\n",
       "    </tr>\n",
       "  </thead>\n",
       "  <tbody>\n",
       "    <tr>\n",
       "      <th>0</th>\n",
       "      <td>892</td>\n",
       "      <td>0</td>\n",
       "    </tr>\n",
       "    <tr>\n",
       "      <th>1</th>\n",
       "      <td>893</td>\n",
       "      <td>0</td>\n",
       "    </tr>\n",
       "    <tr>\n",
       "      <th>2</th>\n",
       "      <td>894</td>\n",
       "      <td>0</td>\n",
       "    </tr>\n",
       "    <tr>\n",
       "      <th>3</th>\n",
       "      <td>895</td>\n",
       "      <td>0</td>\n",
       "    </tr>\n",
       "    <tr>\n",
       "      <th>4</th>\n",
       "      <td>896</td>\n",
       "      <td>1</td>\n",
       "    </tr>\n",
       "    <tr>\n",
       "      <th>...</th>\n",
       "      <td>...</td>\n",
       "      <td>...</td>\n",
       "    </tr>\n",
       "    <tr>\n",
       "      <th>413</th>\n",
       "      <td>1305</td>\n",
       "      <td>0</td>\n",
       "    </tr>\n",
       "    <tr>\n",
       "      <th>414</th>\n",
       "      <td>1306</td>\n",
       "      <td>1</td>\n",
       "    </tr>\n",
       "    <tr>\n",
       "      <th>415</th>\n",
       "      <td>1307</td>\n",
       "      <td>0</td>\n",
       "    </tr>\n",
       "    <tr>\n",
       "      <th>416</th>\n",
       "      <td>1308</td>\n",
       "      <td>0</td>\n",
       "    </tr>\n",
       "    <tr>\n",
       "      <th>417</th>\n",
       "      <td>1309</td>\n",
       "      <td>0</td>\n",
       "    </tr>\n",
       "  </tbody>\n",
       "</table>\n",
       "<p>418 rows × 2 columns</p>\n",
       "</div>"
      ],
      "text/plain": [
       "     PassengerId  Survived\n",
       "0            892         0\n",
       "1            893         0\n",
       "2            894         0\n",
       "3            895         0\n",
       "4            896         1\n",
       "..           ...       ...\n",
       "413         1305         0\n",
       "414         1306         1\n",
       "415         1307         0\n",
       "416         1308         0\n",
       "417         1309         0\n",
       "\n",
       "[418 rows x 2 columns]"
      ]
     },
     "execution_count": 6,
     "metadata": {},
     "output_type": "execute_result"
    }
   ],
   "source": [
    "titanic_in = pd.read_csv('/kaggle/input/titanic/test.csv')\n",
    "titanic_Passengers = titanic_in['PassengerId']\n",
    "titanic_in = titanic_in.drop(['Name', 'Cabin', 'Ticket'], axis = 1)\n",
    "sexEncoder = pd.get_dummies(titanic_in['Sex'])\n",
    "titanic_in = titanic_in.drop('Sex', axis = 1)\n",
    "titanic_in = titanic_in.join(sexEncoder)\n",
    "embarkEncoder = pd.get_dummies(titanic_in['Embarked'])\n",
    "titanic_in = titanic_in.drop('Embarked', axis = 1)\n",
    "titanic_in = titanic_in.join(embarkEncoder)\n",
    "titanic_imp = SimpleImputer(missing_values = np.nan, strategy = 'mean') #could also use mean, median, most freq\n",
    "titanic_in = pd.DataFrame(imp.fit_transform(titanic_in), columns = titanic_in.columns)\n",
    "titanic_out = logistic_regression.predict(titanic_in)\n",
    "sub = pd.DataFrame({'PassengerId': titanic_Passengers, 'Survived': titanic_out})\n",
    "sub.to_csv(\"submission.csv\", index=False)\n",
    "sub\n"
   ]
  }
 ],
 "metadata": {
  "kernelspec": {
   "display_name": "Python 3",
   "language": "python",
   "name": "python3"
  },
  "language_info": {
   "codemirror_mode": {
    "name": "ipython",
    "version": 3
   },
   "file_extension": ".py",
   "mimetype": "text/x-python",
   "name": "python",
   "nbconvert_exporter": "python",
   "pygments_lexer": "ipython3",
   "version": "3.7.12"
  },
  "papermill": {
   "default_parameters": {},
   "duration": 9.979812,
   "end_time": "2023-03-27T02:27:25.410981",
   "environment_variables": {},
   "exception": null,
   "input_path": "__notebook__.ipynb",
   "output_path": "__notebook__.ipynb",
   "parameters": {},
   "start_time": "2023-03-27T02:27:15.431169",
   "version": "2.4.0"
  }
 },
 "nbformat": 4,
 "nbformat_minor": 5
}
