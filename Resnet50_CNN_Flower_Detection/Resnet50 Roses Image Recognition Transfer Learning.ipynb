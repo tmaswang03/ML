{
 "cells": [
  {
   "cell_type": "code",
   "execution_count": 6,
   "id": "4f3190f1",
   "metadata": {},
   "outputs": [],
   "source": [
    "import numpy as np \n",
    "import pathlib\n",
    "import os \n",
    "import tensorflow as tf\n",
    "from tensorflow import keras \n",
    "from tensorflow.keras import layers\n",
    "from tensorflow.python.keras.layers import Dense, Flatten\n",
    "from tensorflow.keras.models import Sequential \n",
    "from tensorflow.keras.optimizers import Adam "
   ]
  },
  {
   "cell_type": "code",
   "execution_count": 7,
   "id": "d3a9621f",
   "metadata": {},
   "outputs": [],
   "source": [
    "dataset_url = \"https://storage.googleapis.com/download.tensorflow.org/example_images/flower_photos.tgz\"\n",
    "data_dir = tf.keras.utils.get_file('flower_photos', origin = dataset_url, untar = True)\n",
    "data_dir = pathlib.Path(data_dir)"
   ]
  },
  {
   "cell_type": "code",
   "execution_count": 8,
   "id": "69ff7689",
   "metadata": {},
   "outputs": [
    {
     "name": "stdout",
     "output_type": "stream",
     "text": [
      "Found 3670 files belonging to 5 classes.\n",
      "Using 2936 files for training.\n"
     ]
    }
   ],
   "source": [
    "img_height, img_width = 180, 180\n",
    "batch_size = 32\n",
    "train_ds = tf.keras.preprocessing.image_dataset_from_directory(data_dir, validation_split = 0.2, subset = \"training\", \n",
    "                                                              seed = 123, label_mode = 'categorical', \n",
    "                                                               image_size = (img_height, img_width),\n",
    "                                                              batch_size = batch_size)\n",
    "\n",
    "\n",
    "class_names = train_ds.class_names"
   ]
  },
  {
   "cell_type": "code",
   "execution_count": 13,
   "id": "7edaf933",
   "metadata": {},
   "outputs": [
    {
     "name": "stdout",
     "output_type": "stream",
     "text": [
      "Found 3670 files belonging to 5 classes.\n",
      "Using 734 files for validation.\n"
     ]
    }
   ],
   "source": [
    "val_ds = tf.keras.preprocessing.image_dataset_from_directory(data_dir, validation_split = 0.2, subset = \"validation\", \n",
    "                                                              seed = 123, label_mode = 'categorical', \n",
    "                                                               image_size = (img_height, img_width),\n",
    "                                                              batch_size = batch_size)"
   ]
  },
  {
   "cell_type": "code",
   "execution_count": 17,
   "id": "1fb682ea",
   "metadata": {},
   "outputs": [],
   "source": [
    "model = Sequential()\n",
    "\n",
    "pretrain_model = tf.keras.applications.ResNet50(include_top = False, input_shape = (180, 180, 3), pooling = 'avg', \n",
    "                                               classes = 5, weights = \"imagenet\")\n",
    "\n",
    "for l in pretrain_model.layers: \n",
    "    l.trainable = False\n",
    "\n",
    "model.add(pretrain_model)\n",
    "model.add(Flatten())\n",
    "model.add(Dense(512, activation = \"relu\"))\n",
    "model.add(Dense(5, activation = \"softmax\"))"
   ]
  },
  {
   "cell_type": "code",
   "execution_count": 19,
   "id": "d51838ba",
   "metadata": {},
   "outputs": [],
   "source": [
    "model.compile(optimizer = Adam(learning_rate = 0.001), loss = 'categorical_crossentropy', metrics = ['accuracy'])"
   ]
  },
  {
   "cell_type": "code",
   "execution_count": 20,
   "id": "005881ff",
   "metadata": {},
   "outputs": [
    {
     "name": "stdout",
     "output_type": "stream",
     "text": [
      "Epoch 1/15\n",
      "92/92 [==============================] - 147s 2s/step - loss: 0.6817 - accuracy: 0.7868 - val_loss: 0.3801 - val_accuracy: 0.8569\n",
      "Epoch 2/15\n",
      "92/92 [==============================] - 140s 2s/step - loss: 0.2735 - accuracy: 0.9067 - val_loss: 0.4656 - val_accuracy: 0.8297\n",
      "Epoch 3/15\n",
      "92/92 [==============================] - 145s 2s/step - loss: 0.1506 - accuracy: 0.9482 - val_loss: 0.4539 - val_accuracy: 0.8474\n",
      "Epoch 4/15\n",
      "92/92 [==============================] - 144s 2s/step - loss: 0.1036 - accuracy: 0.9659 - val_loss: 0.4521 - val_accuracy: 0.8597\n",
      "Epoch 5/15\n",
      "92/92 [==============================] - 142s 2s/step - loss: 0.0668 - accuracy: 0.9765 - val_loss: 0.3900 - val_accuracy: 0.8828\n",
      "Epoch 6/15\n",
      "92/92 [==============================] - 143s 2s/step - loss: 0.0321 - accuracy: 0.9939 - val_loss: 0.4502 - val_accuracy: 0.8747\n",
      "Epoch 7/15\n",
      "92/92 [==============================] - 148s 2s/step - loss: 0.0230 - accuracy: 0.9952 - val_loss: 0.4184 - val_accuracy: 0.8801\n",
      "Epoch 8/15\n",
      "92/92 [==============================] - 147s 2s/step - loss: 0.0087 - accuracy: 0.9997 - val_loss: 0.4201 - val_accuracy: 0.8828\n",
      "Epoch 9/15\n",
      "92/92 [==============================] - 149s 2s/step - loss: 0.0042 - accuracy: 1.0000 - val_loss: 0.4180 - val_accuracy: 0.8910\n",
      "Epoch 10/15\n",
      "92/92 [==============================] - 145s 2s/step - loss: 0.0027 - accuracy: 1.0000 - val_loss: 0.4164 - val_accuracy: 0.8883\n",
      "Epoch 11/15\n",
      "92/92 [==============================] - 146s 2s/step - loss: 0.0021 - accuracy: 1.0000 - val_loss: 0.4229 - val_accuracy: 0.8910\n",
      "Epoch 12/15\n",
      "92/92 [==============================] - 147s 2s/step - loss: 0.0017 - accuracy: 1.0000 - val_loss: 0.4308 - val_accuracy: 0.8896\n",
      "Epoch 13/15\n",
      "92/92 [==============================] - 146s 2s/step - loss: 0.0014 - accuracy: 1.0000 - val_loss: 0.4345 - val_accuracy: 0.8910\n",
      "Epoch 14/15\n",
      "92/92 [==============================] - 147s 2s/step - loss: 0.0012 - accuracy: 1.0000 - val_loss: 0.4395 - val_accuracy: 0.8924\n",
      "Epoch 15/15\n",
      "92/92 [==============================] - 147s 2s/step - loss: 0.0011 - accuracy: 1.0000 - val_loss: 0.4444 - val_accuracy: 0.8924\n"
     ]
    },
    {
     "data": {
      "text/plain": [
       "<keras.callbacks.History at 0x13d03d21ed0>"
      ]
     },
     "execution_count": 20,
     "metadata": {},
     "output_type": "execute_result"
    }
   ],
   "source": [
    "model.fit(train_ds, validation_data = val_ds, epochs = 15)"
   ]
  },
  {
   "cell_type": "code",
   "execution_count": null,
   "id": "da91fc8a",
   "metadata": {},
   "outputs": [],
   "source": []
  }
 ],
 "metadata": {
  "kernelspec": {
   "display_name": "Python 3 (ipykernel)",
   "language": "python",
   "name": "python3"
  },
  "language_info": {
   "codemirror_mode": {
    "name": "ipython",
    "version": 3
   },
   "file_extension": ".py",
   "mimetype": "text/x-python",
   "name": "python",
   "nbconvert_exporter": "python",
   "pygments_lexer": "ipython3",
   "version": "3.10.9"
  }
 },
 "nbformat": 4,
 "nbformat_minor": 5
}
